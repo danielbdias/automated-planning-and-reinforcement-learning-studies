{
 "cells": [
  {
   "cell_type": "markdown",
   "metadata": {
    "colab_type": "text",
    "id": "6ppn_H8a5KD5"
   },
   "source": [
    "# Estudos com Planejamento probabilístico\n",
    "\n",
    "## 0 . Setup de ambiente"
   ]
  },
  {
   "cell_type": "code",
   "execution_count": 1,
   "metadata": {
    "colab": {},
    "colab_type": "code",
    "id": "wDb8AqU54sZO"
   },
   "outputs": [],
   "source": [
    "# prepara a máquina local do google colab para receber a base (quando necessário)\n",
    "# e baixa os scripts auxiliares para a montagem do notebook\n",
    "#!rm -rf ./*\n",
    "\n",
    "#!git clone https://github.com/danielbdias/automated-planning-and-reinforcement-learning-studies\n",
    "#!mv ./automated-planning-and-reinforcement-learning-studies/* ./\n",
    "#!rm -rf ./automated-planning-and-reinforcement-learning-studies\n",
    "#!rm -rf ./sample_data\n",
    "\n",
    "#!pip install -r requirements.txt"
   ]
  },
  {
   "cell_type": "code",
   "execution_count": 2,
   "metadata": {
    "colab": {},
    "colab_type": "code",
    "id": "8CkkP7vG55AO"
   },
   "outputs": [],
   "source": [
    "import time\n",
    "import pandas as pd\n",
    "import numpy as np\n",
    "\n",
    "from probabilistic_planning.problems.reader import read_problem_file\n",
    "from probabilistic_planning.algorithms.value_iteration import enumerative_value_iteration\n",
    "from probabilistic_planning.algorithms.rtdp import enumerative_rtdp, enumerative_lrtdp\n",
    "\n",
    "epsilon = 1e-8\n",
    "gamma = 0.9"
   ]
  },
  {
   "cell_type": "markdown",
   "metadata": {
    "colab_type": "text",
    "id": "nXgptU_W5ixE"
   },
   "source": [
    "# 1. Algoritmos de teste"
   ]
  },
  {
   "cell_type": "code",
   "execution_count": 8,
   "metadata": {
    "colab": {},
    "colab_type": "code",
    "id": "-BtJH1_T6jvP"
   },
   "outputs": [],
   "source": [
    "def test_algorithm(algorithm_name, algorithm, mdp):\n",
    "    start_time = time.time()\n",
    "\n",
    "    policy, value_function, statistics = algorithm(mdp)\n",
    "\n",
    "    elapsed_time = time.time() - start_time\n",
    "    elapsed_time_as_string = time.strftime(\"%H:%M:%S\", time.gmtime(elapsed_time))\n",
    "\n",
    "    return {\n",
    "        \"algorithm_name\": algorithm_name,\n",
    "        \"elapsed_time\": elapsed_time,\n",
    "        \"elapsed_time_as_string\": elapsed_time_as_string,\n",
    "        \"iterations\": statistics[\"iterations\"],\n",
    "        \"bellman_backups_done\": statistics[\"bellman_backups_done\"],\n",
    "        \"maximum_residuals\": statistics[\"maximum_residuals\"],\n",
    "        \"last_residual\": float(statistics[\"maximum_residuals\"][-1])\n",
    "    }\n",
    "\n",
    "def summarize_results(results):\n",
    "    if len(results) == 1:\n",
    "        return results[0]\n",
    "  \n",
    "    mean_elapsed_time = np.mean(list(map(lambda r: r[\"elapsed_time\"], results)))\n",
    "    mean_iterations = np.mean(list(map(lambda r: r[\"iterations\"], results)))\n",
    "    mean_bellman_backups_done = np.mean(list(map(lambda r: r[\"bellman_backups_done\"], results)))\n",
    "\n",
    "    best_results = sorted(results, key=lambda result: result[\"elapsed_time\"] * result[\"last_residual\"])\n",
    "    best_result = best_results[0]\n",
    "\n",
    "    return {\n",
    "        \"algorithm_name\": best_result[\"algorithm_name\"],\n",
    "        \"elapsed_time\": mean_elapsed_time,\n",
    "        \"elapsed_time_as_string\": time.strftime(\"%H:%M:%S\", time.gmtime(mean_elapsed_time)),\n",
    "        \"iterations\": mean_iterations,\n",
    "        \"bellman_backups_done\": mean_bellman_backups_done,\n",
    "        \"maximum_residuals\": best_result[\"maximum_residuals\"],\n",
    "        \"last_residual\": best_result[\"last_residual\"]\n",
    "    }\n",
    "\n",
    "def test_algorithms_in_mdp(algorithms, mdp, times = 1):\n",
    "    results = []\n",
    "\n",
    "    for algorithm_name in algorithms.keys():\n",
    "        algorithm = algorithms[algorithm_name]\n",
    "\n",
    "        algorithm_results = list(map(lambda test_number: test_algorithm(algorithm_name, algorithm, mdp), range(times)))\n",
    "        results.append(summarize_results(algorithm_results))\n",
    "\n",
    "    dataframe = pd.DataFrame({\n",
    "        \"Algorithm\": list(map(lambda result: result[\"algorithm_name\"], results)),\n",
    "        \"Elapsed Time\": list(map(lambda result: result[\"elapsed_time\"], results)),\n",
    "        \"Elapsed Time String\": list(map(lambda result: result[\"elapsed_time_as_string\"], results)),\n",
    "        \"Iterations\": list(map(lambda result: result[\"iterations\"], results)),\n",
    "        \"Bellman Backups\": list(map(lambda result: result[\"bellman_backups_done\"], results)),\n",
    "        \"Last Residual\": list(map(lambda result: result[\"last_residual\"], results))\n",
    "    })\n",
    "\n",
    "    return results, dataframe"
   ]
  },
  {
   "cell_type": "markdown",
   "metadata": {
    "colab_type": "text",
    "id": "oZojiQmX8yKy"
   },
   "source": [
    "# 2. Experimentos\n",
    "\n",
    "## 2.1 - Convergência"
   ]
  },
  {
   "cell_type": "code",
   "execution_count": 9,
   "metadata": {
    "colab": {
     "base_uri": "https://localhost:8080/",
     "height": 142
    },
    "colab_type": "code",
    "id": "_PrkYGzP872D",
    "outputId": "f7c29c21-c1a8-4d05-daf5-4e8cc0ed81d0"
   },
   "outputs": [
    {
     "data": {
      "text/html": [
       "<div>\n",
       "<style scoped>\n",
       "    .dataframe tbody tr th:only-of-type {\n",
       "        vertical-align: middle;\n",
       "    }\n",
       "\n",
       "    .dataframe tbody tr th {\n",
       "        vertical-align: top;\n",
       "    }\n",
       "\n",
       "    .dataframe thead th {\n",
       "        text-align: right;\n",
       "    }\n",
       "</style>\n",
       "<table border=\"1\" class=\"dataframe\">\n",
       "  <thead>\n",
       "    <tr style=\"text-align: right;\">\n",
       "      <th></th>\n",
       "      <th>Algorithm</th>\n",
       "      <th>Elapsed Time</th>\n",
       "      <th>Elapsed Time String</th>\n",
       "      <th>Iterations</th>\n",
       "      <th>Bellman Backups</th>\n",
       "      <th>Last Residual</th>\n",
       "    </tr>\n",
       "  </thead>\n",
       "  <tbody>\n",
       "    <tr>\n",
       "      <th>0</th>\n",
       "      <td>Value Iteration</td>\n",
       "      <td>0.451883</td>\n",
       "      <td>00:00:00</td>\n",
       "      <td>49.0</td>\n",
       "      <td>6125.0</td>\n",
       "      <td>6.946284e-09</td>\n",
       "    </tr>\n",
       "    <tr>\n",
       "      <th>1</th>\n",
       "      <td>RTDP</td>\n",
       "      <td>0.903147</td>\n",
       "      <td>00:00:00</td>\n",
       "      <td>350.0</td>\n",
       "      <td>3613.2</td>\n",
       "      <td>0.000000e+00</td>\n",
       "    </tr>\n",
       "    <tr>\n",
       "      <th>2</th>\n",
       "      <td>LRTDP</td>\n",
       "      <td>0.742862</td>\n",
       "      <td>00:00:00</td>\n",
       "      <td>193.4</td>\n",
       "      <td>2645.8</td>\n",
       "      <td>0.000000e+00</td>\n",
       "    </tr>\n",
       "  </tbody>\n",
       "</table>\n",
       "</div>"
      ],
      "text/plain": [
       "         Algorithm  Elapsed Time Elapsed Time String  Iterations  \\\n",
       "0  Value Iteration      0.451883            00:00:00        49.0   \n",
       "1             RTDP      0.903147            00:00:00       350.0   \n",
       "2            LRTDP      0.742862            00:00:00       193.4   \n",
       "\n",
       "   Bellman Backups  Last Residual  \n",
       "0           6125.0   6.946284e-09  \n",
       "1           3613.2   0.000000e+00  \n",
       "2           2645.8   0.000000e+00  "
      ]
     },
     "execution_count": 9,
     "metadata": {},
     "output_type": "execute_result"
    }
   ],
   "source": [
    "# algoritmos a serem testados\n",
    "algorithms = {\n",
    "    \"Value Iteration\": lambda mdp: enumerative_value_iteration(mdp, gamma=gamma, epsilon=epsilon),\n",
    "    \"RTDP\": lambda mdp: enumerative_rtdp(mdp, gamma=gamma, max_trials=350, max_depth=2_000),\n",
    "    \"LRTDP\": lambda mdp: enumerative_lrtdp(mdp, gamma=gamma, epsilon=epsilon, max_depth=2_000)\n",
    "}\n",
    "\n",
    "mdp_river_traversal_01 = read_problem_file(problem_file=\"probabilistic_planning/problems/files/enumerative/river_traversal_01.net\")\n",
    "raw_results_01, results_dataframe_01 = test_algorithms_in_mdp(algorithms, mdp_river_traversal_01, times = 5)\n",
    "results_dataframe_01"
   ]
  },
  {
   "cell_type": "code",
   "execution_count": null,
   "metadata": {},
   "outputs": [],
   "source": [
    "# algoritmos a serem testados\n",
    "algorithms = {\n",
    "    \"Value Iteration\": lambda mdp: enumerative_value_iteration(mdp, gamma=gamma, epsilon=epsilon),\n",
    "    \"RTDP\": lambda mdp: enumerative_rtdp(mdp, gamma=gamma, max_trials=350, max_depth=20_000),\n",
    "    \"LRTDP\": lambda mdp: enumerative_lrtdp(mdp, gamma=gamma, epsilon=epsilon, max_depth=20_000)\n",
    "}\n",
    "\n",
    "mdp_river_traversal_02 = read_problem_file(problem_file=\"probabilistic_planning/problems/files/enumerative/river_traversal_02.net\")\n",
    "raw_results_02, results_dataframe_02 = test_algorithms_in_mdp(algorithms, mdp_river_traversal_02, times = 5)\n",
    "results_dataframe_02"
   ]
  },
  {
   "cell_type": "code",
   "execution_count": 5,
   "metadata": {
    "colab": {
     "base_uri": "https://localhost:8080/",
     "height": 54
    },
    "colab_type": "code",
    "id": "-_QFYSPhnPiT",
    "outputId": "2c6dd451-c795-49ee-8037-aac4af5d0035"
   },
   "outputs": [
    {
     "data": {
      "text/plain": [
       "'\\\\begin{tabular}{llll}\\n\\\\toprule\\n{} &                0 &        1 &       2 \\\\\\\\\\n\\\\midrule\\nAlgoritmo           &  Value Iteration &     RTDP &   LRTDP \\\\\\\\\\nTempo (em segundos) &          3.36332 &  2.63117 &  2.2036 \\\\\\\\\\nIterações           &               33 &      100 &    43.7 \\\\\\\\\\nBellman Backups     &             4125 &   1440.4 &  1103.9 \\\\\\\\\\n\\\\bottomrule\\n\\\\end{tabular}\\n'"
      ]
     },
     "execution_count": 5,
     "metadata": {
      "tags": []
     },
     "output_type": "execute_result"
    }
   ],
   "source": [
    "latex_results_dataframe_01 = results_dataframe_01[[\"Algorithm\", \"Elapsed Time\", \"Iterations\", \"Bellman Backups\"]]\n",
    "latex_results_dataframe_01.columns = [ \"Algoritmo\", \"Tempo (em segundos)\", \"Iterações\", \"Bellman Backups\" ]\n",
    "latex_results_dataframe_01.T.to_latex()"
   ]
  },
  {
   "cell_type": "code",
   "execution_count": 6,
   "metadata": {
    "colab": {
     "base_uri": "https://localhost:8080/",
     "height": 281
    },
    "colab_type": "code",
    "id": "yQM9sVMetgtO",
    "outputId": "ba47494b-4710-4880-cd15-f643fad4d85b"
   },
   "outputs": [
    {
     "data": {
      "image/png": "[encoded data removed]",
      "text/plain": [
       "<Figure size 432x288 with 1 Axes>"
      ]
     },
     "metadata": {
      "needs_background": "light",
      "tags": []
     },
     "output_type": "display_data"
    }
   ],
   "source": [
    "import matplotlib.pyplot as plt\n",
    "\n",
    "point_types = [ 'r-', 'b-', 'g-' ]\n",
    "algorithm_names = []\n",
    "\n",
    "for i in range(len(raw_results_01)):\n",
    "  result = raw_results_01[i]\n",
    "\n",
    "  y = result[\"maximum_residuals\"]\n",
    "  x = range(1, len(result[\"maximum_residuals\"]) + 1)\n",
    "  point_type = point_types[i]\n",
    "  algorithm_names.append(result[\"algorithm_name\"])\n",
    "\n",
    "  plt.plot(x, y, point_type)\n",
    "\n",
    "plt.title(\"Initial state residuals\")\n",
    "plt.legend(algorithm_names)\n",
    "plt.show()"
   ]
  },
  {
   "cell_type": "markdown",
   "metadata": {
    "colab_type": "text",
    "id": "7fdoIh_q-YdM"
   },
   "source": [
    "## 2.3 - river_traversal_02"
   ]
  },
  {
   "cell_type": "code",
   "execution_count": 9,
   "metadata": {
    "colab": {
     "base_uri": "https://localhost:8080/",
     "height": 358
    },
    "colab_type": "code",
    "id": "20ydxShP-hb7",
    "outputId": "66c29526-793f-41f6-e1f8-b391ffbe1c86"
   },
   "outputs": [
    {
     "ename": "KeyboardInterrupt",
     "evalue": "ignored",
     "output_type": "error",
     "traceback": [
      "\u001b[0;31m---------------------------------------------------------------------------\u001b[0m",
      "\u001b[0;31mKeyboardInterrupt\u001b[0m                         Traceback (most recent call last)",
      "\u001b[0;32m<ipython-input-9-798def380f85>\u001b[0m in \u001b[0;36m<module>\u001b[0;34m()\u001b[0m\n\u001b[1;32m      7\u001b[0m \u001b[0;34m\u001b[0m\u001b[0m\n\u001b[1;32m      8\u001b[0m \u001b[0mmdp_river_traversal_02\u001b[0m \u001b[0;34m=\u001b[0m \u001b[0mread_problem_file\u001b[0m\u001b[0;34m(\u001b[0m\u001b[0mproblem_file\u001b[0m\u001b[0;34m=\u001b[0m\u001b[0;34m\"probabilistic_planning/problems/files/enumerative/river_traversal_02.net\"\u001b[0m\u001b[0;34m)\u001b[0m\u001b[0;34m\u001b[0m\u001b[0;34m\u001b[0m\u001b[0m\n\u001b[0;32m----> 9\u001b[0;31m \u001b[0mraw_results_02\u001b[0m\u001b[0;34m,\u001b[0m \u001b[0mresults_dataframe_02\u001b[0m \u001b[0;34m=\u001b[0m \u001b[0mtest_algorithms_in_mdp\u001b[0m\u001b[0;34m(\u001b[0m\u001b[0malgorithms\u001b[0m\u001b[0;34m,\u001b[0m \u001b[0mmdp_river_traversal_02\u001b[0m\u001b[0;34m)\u001b[0m\u001b[0;34m\u001b[0m\u001b[0;34m\u001b[0m\u001b[0m\n\u001b[0m\u001b[1;32m     10\u001b[0m \u001b[0mresults_dataframe_02\u001b[0m\u001b[0;34m\u001b[0m\u001b[0;34m\u001b[0m\u001b[0m\n",
      "\u001b[0;32m<ipython-input-3-7f4aea193394>\u001b[0m in \u001b[0;36mtest_algorithms_in_mdp\u001b[0;34m(algorithms, mdp, times)\u001b[0m\n\u001b[1;32m     44\u001b[0m     \u001b[0malgorithm\u001b[0m \u001b[0;34m=\u001b[0m \u001b[0malgorithms\u001b[0m\u001b[0;34m[\u001b[0m\u001b[0malgorithm_name\u001b[0m\u001b[0;34m]\u001b[0m\u001b[0;34m\u001b[0m\u001b[0;34m\u001b[0m\u001b[0m\n\u001b[1;32m     45\u001b[0m \u001b[0;34m\u001b[0m\u001b[0m\n\u001b[0;32m---> 46\u001b[0;31m     \u001b[0malgorithm_results\u001b[0m \u001b[0;34m=\u001b[0m \u001b[0mlist\u001b[0m\u001b[0;34m(\u001b[0m\u001b[0mmap\u001b[0m\u001b[0;34m(\u001b[0m\u001b[0;32mlambda\u001b[0m \u001b[0mtest_number\u001b[0m\u001b[0;34m:\u001b[0m \u001b[0mtest_algorithm\u001b[0m\u001b[0;34m(\u001b[0m\u001b[0malgorithm_name\u001b[0m\u001b[0;34m,\u001b[0m \u001b[0malgorithm\u001b[0m\u001b[0;34m,\u001b[0m \u001b[0mmdp\u001b[0m\u001b[0;34m)\u001b[0m\u001b[0;34m,\u001b[0m \u001b[0mrange\u001b[0m\u001b[0;34m(\u001b[0m\u001b[0mtimes\u001b[0m\u001b[0;34m)\u001b[0m\u001b[0;34m)\u001b[0m\u001b[0;34m)\u001b[0m\u001b[0;34m\u001b[0m\u001b[0;34m\u001b[0m\u001b[0m\n\u001b[0m\u001b[1;32m     47\u001b[0m     \u001b[0mresults\u001b[0m\u001b[0;34m.\u001b[0m\u001b[0mappend\u001b[0m\u001b[0;34m(\u001b[0m\u001b[0msummarize_results\u001b[0m\u001b[0;34m(\u001b[0m\u001b[0malgorithm_results\u001b[0m\u001b[0;34m)\u001b[0m\u001b[0;34m)\u001b[0m\u001b[0;34m\u001b[0m\u001b[0;34m\u001b[0m\u001b[0m\n\u001b[1;32m     48\u001b[0m \u001b[0;34m\u001b[0m\u001b[0m\n",
      "\u001b[0;32m<ipython-input-3-7f4aea193394>\u001b[0m in \u001b[0;36m<lambda>\u001b[0;34m(test_number)\u001b[0m\n\u001b[1;32m     44\u001b[0m     \u001b[0malgorithm\u001b[0m \u001b[0;34m=\u001b[0m \u001b[0malgorithms\u001b[0m\u001b[0;34m[\u001b[0m\u001b[0malgorithm_name\u001b[0m\u001b[0;34m]\u001b[0m\u001b[0;34m\u001b[0m\u001b[0;34m\u001b[0m\u001b[0m\n\u001b[1;32m     45\u001b[0m \u001b[0;34m\u001b[0m\u001b[0m\n\u001b[0;32m---> 46\u001b[0;31m     \u001b[0malgorithm_results\u001b[0m \u001b[0;34m=\u001b[0m \u001b[0mlist\u001b[0m\u001b[0;34m(\u001b[0m\u001b[0mmap\u001b[0m\u001b[0;34m(\u001b[0m\u001b[0;32mlambda\u001b[0m \u001b[0mtest_number\u001b[0m\u001b[0;34m:\u001b[0m \u001b[0mtest_algorithm\u001b[0m\u001b[0;34m(\u001b[0m\u001b[0malgorithm_name\u001b[0m\u001b[0;34m,\u001b[0m \u001b[0malgorithm\u001b[0m\u001b[0;34m,\u001b[0m \u001b[0mmdp\u001b[0m\u001b[0;34m)\u001b[0m\u001b[0;34m,\u001b[0m \u001b[0mrange\u001b[0m\u001b[0;34m(\u001b[0m\u001b[0mtimes\u001b[0m\u001b[0;34m)\u001b[0m\u001b[0;34m)\u001b[0m\u001b[0;34m)\u001b[0m\u001b[0;34m\u001b[0m\u001b[0;34m\u001b[0m\u001b[0m\n\u001b[0m\u001b[1;32m     47\u001b[0m     \u001b[0mresults\u001b[0m\u001b[0;34m.\u001b[0m\u001b[0mappend\u001b[0m\u001b[0;34m(\u001b[0m\u001b[0msummarize_results\u001b[0m\u001b[0;34m(\u001b[0m\u001b[0malgorithm_results\u001b[0m\u001b[0;34m)\u001b[0m\u001b[0;34m)\u001b[0m\u001b[0;34m\u001b[0m\u001b[0;34m\u001b[0m\u001b[0m\n\u001b[1;32m     48\u001b[0m \u001b[0;34m\u001b[0m\u001b[0m\n",
      "\u001b[0;32m<ipython-input-3-7f4aea193394>\u001b[0m in \u001b[0;36mtest_algorithm\u001b[0;34m(algorithm_name, algorithm, mdp)\u001b[0m\n\u001b[1;32m      2\u001b[0m   \u001b[0mstart_time\u001b[0m \u001b[0;34m=\u001b[0m \u001b[0mtime\u001b[0m\u001b[0;34m.\u001b[0m\u001b[0mtime\u001b[0m\u001b[0;34m(\u001b[0m\u001b[0;34m)\u001b[0m\u001b[0;34m\u001b[0m\u001b[0;34m\u001b[0m\u001b[0m\n\u001b[1;32m      3\u001b[0m \u001b[0;34m\u001b[0m\u001b[0m\n\u001b[0;32m----> 4\u001b[0;31m   \u001b[0mpolicy\u001b[0m\u001b[0;34m,\u001b[0m \u001b[0mvalue_function\u001b[0m\u001b[0;34m,\u001b[0m \u001b[0mstatistics\u001b[0m \u001b[0;34m=\u001b[0m \u001b[0malgorithm\u001b[0m\u001b[0;34m(\u001b[0m\u001b[0mmdp\u001b[0m\u001b[0;34m)\u001b[0m\u001b[0;34m\u001b[0m\u001b[0;34m\u001b[0m\u001b[0m\n\u001b[0m\u001b[1;32m      5\u001b[0m \u001b[0;34m\u001b[0m\u001b[0m\n\u001b[1;32m      6\u001b[0m   \u001b[0melapsed_time\u001b[0m \u001b[0;34m=\u001b[0m \u001b[0mtime\u001b[0m\u001b[0;34m.\u001b[0m\u001b[0mtime\u001b[0m\u001b[0;34m(\u001b[0m\u001b[0;34m)\u001b[0m \u001b[0;34m-\u001b[0m \u001b[0mstart_time\u001b[0m\u001b[0;34m\u001b[0m\u001b[0;34m\u001b[0m\u001b[0m\n",
      "\u001b[0;32m<ipython-input-9-798def380f85>\u001b[0m in \u001b[0;36m<lambda>\u001b[0;34m(mdp)\u001b[0m\n\u001b[1;32m      2\u001b[0m \u001b[0;34m\u001b[0m\u001b[0m\n\u001b[1;32m      3\u001b[0m algorithms = {\n\u001b[0;32m----> 4\u001b[0;31m     \u001b[0;34m\"RTDP\"\u001b[0m\u001b[0;34m:\u001b[0m \u001b[0;32mlambda\u001b[0m \u001b[0mmdp\u001b[0m\u001b[0;34m:\u001b[0m \u001b[0menumerative_rtdp\u001b[0m\u001b[0;34m(\u001b[0m\u001b[0mmdp\u001b[0m\u001b[0;34m,\u001b[0m \u001b[0mgamma\u001b[0m\u001b[0;34m=\u001b[0m\u001b[0mgamma\u001b[0m\u001b[0;34m,\u001b[0m \u001b[0mmax_trials\u001b[0m\u001b[0;34m=\u001b[0m\u001b[0;36m200\u001b[0m\u001b[0;34m,\u001b[0m \u001b[0mmax_depth\u001b[0m\u001b[0;34m=\u001b[0m\u001b[0;36m2_000_000\u001b[0m\u001b[0;34m)\u001b[0m\u001b[0;34m,\u001b[0m\u001b[0;34m\u001b[0m\u001b[0;34m\u001b[0m\u001b[0m\n\u001b[0m\u001b[1;32m      5\u001b[0m     \u001b[0;31m#\"LRTDP\": lambda mdp: enumerative_lrtdp(mdp, gamma=gamma, epsilon=epsilon, max_depth=2_000_000)\u001b[0m\u001b[0;34m\u001b[0m\u001b[0;34m\u001b[0m\u001b[0;34m\u001b[0m\u001b[0m\n\u001b[1;32m      6\u001b[0m }\n",
      "\u001b[0;32m/content/probabilistic_planning/algorithms/rtdp/enumerative_rtdp.py\u001b[0m in \u001b[0;36menumerative_rtdp\u001b[0;34m(mdp, gamma, max_trials, max_depth, epsilon, initial_value_function, seed)\u001b[0m\n\u001b[1;32m    149\u001b[0m \u001b[0;34m\u001b[0m\u001b[0m\n\u001b[1;32m    150\u001b[0m     \u001b[0;31m# compute policy\u001b[0m\u001b[0;34m\u001b[0m\u001b[0;34m\u001b[0m\u001b[0;34m\u001b[0m\u001b[0m\n\u001b[0;32m--> 151\u001b[0;31m     \u001b[0mpolicy\u001b[0m \u001b[0;34m=\u001b[0m \u001b[0mcompute_policy\u001b[0m\u001b[0;34m(\u001b[0m\u001b[0mmdp\u001b[0m\u001b[0;34m,\u001b[0m \u001b[0mgamma\u001b[0m\u001b[0;34m,\u001b[0m \u001b[0mvalue_function\u001b[0m\u001b[0;34m)\u001b[0m\u001b[0;34m\u001b[0m\u001b[0;34m\u001b[0m\u001b[0m\n\u001b[0m\u001b[1;32m    152\u001b[0m \u001b[0;34m\u001b[0m\u001b[0m\n\u001b[1;32m    153\u001b[0m     statistics = {\n",
      "\u001b[0;32m/content/probabilistic_planning/algorithms/rtdp/enumerative_rtdp.py\u001b[0m in \u001b[0;36mcompute_policy\u001b[0;34m(mdp, gamma, value_function)\u001b[0m\n\u001b[1;32m     60\u001b[0m \u001b[0;34m\u001b[0m\u001b[0m\n\u001b[1;32m     61\u001b[0m     \u001b[0;32mfor\u001b[0m \u001b[0mstate\u001b[0m \u001b[0;32min\u001b[0m \u001b[0mmdp\u001b[0m\u001b[0;34m.\u001b[0m\u001b[0mstates\u001b[0m\u001b[0;34m:\u001b[0m\u001b[0;34m\u001b[0m\u001b[0;34m\u001b[0m\u001b[0m\n\u001b[0;32m---> 62\u001b[0;31m         \u001b[0mpolicy\u001b[0m\u001b[0;34m[\u001b[0m\u001b[0mstate\u001b[0m\u001b[0;34m]\u001b[0m \u001b[0;34m=\u001b[0m \u001b[0mcompute_greedy_action\u001b[0m\u001b[0;34m(\u001b[0m\u001b[0mstate\u001b[0m\u001b[0;34m,\u001b[0m \u001b[0mmdp\u001b[0m\u001b[0;34m,\u001b[0m \u001b[0mgamma\u001b[0m\u001b[0;34m,\u001b[0m \u001b[0mvalue_function\u001b[0m\u001b[0;34m)\u001b[0m\u001b[0;34m\u001b[0m\u001b[0;34m\u001b[0m\u001b[0m\n\u001b[0m\u001b[1;32m     63\u001b[0m \u001b[0;34m\u001b[0m\u001b[0m\n\u001b[1;32m     64\u001b[0m     \u001b[0;32mreturn\u001b[0m \u001b[0mpolicy\u001b[0m\u001b[0;34m\u001b[0m\u001b[0;34m\u001b[0m\u001b[0m\n",
      "\u001b[0;32m/content/probabilistic_planning/algorithms/rtdp/enumerative_rtdp.py\u001b[0m in \u001b[0;36mcompute_greedy_action\u001b[0;34m(state, mdp, gamma, value_function)\u001b[0m\n\u001b[1;32m     35\u001b[0m \u001b[0;34m\u001b[0m\u001b[0m\n\u001b[1;32m     36\u001b[0m     \u001b[0;32mfor\u001b[0m \u001b[0maction\u001b[0m \u001b[0;32min\u001b[0m \u001b[0mmdp\u001b[0m\u001b[0;34m.\u001b[0m\u001b[0mactions\u001b[0m\u001b[0;34m:\u001b[0m\u001b[0;34m\u001b[0m\u001b[0;34m\u001b[0m\u001b[0m\n\u001b[0;32m---> 37\u001b[0;31m         \u001b[0mquality\u001b[0m \u001b[0;34m=\u001b[0m \u001b[0mcompute_quality\u001b[0m\u001b[0;34m(\u001b[0m\u001b[0mstate\u001b[0m\u001b[0;34m,\u001b[0m \u001b[0maction\u001b[0m\u001b[0;34m,\u001b[0m \u001b[0mmdp\u001b[0m\u001b[0;34m,\u001b[0m \u001b[0mgamma\u001b[0m\u001b[0;34m,\u001b[0m \u001b[0mvalue_function\u001b[0m\u001b[0;34m)\u001b[0m\u001b[0;34m\u001b[0m\u001b[0;34m\u001b[0m\u001b[0m\n\u001b[0m\u001b[1;32m     38\u001b[0m \u001b[0;34m\u001b[0m\u001b[0m\n\u001b[1;32m     39\u001b[0m         \u001b[0;32mif\u001b[0m \u001b[0mquality\u001b[0m \u001b[0;34m>\u001b[0m \u001b[0mmax_value_for_best_action\u001b[0m\u001b[0;34m:\u001b[0m\u001b[0;34m\u001b[0m\u001b[0;34m\u001b[0m\u001b[0m\n",
      "\u001b[0;32m/content/probabilistic_planning/algorithms/rtdp/enumerative_rtdp.py\u001b[0m in \u001b[0;36mcompute_quality\u001b[0;34m(state, action, mdp, gamma, value_function)\u001b[0m\n\u001b[1;32m     13\u001b[0m     \u001b[0;32mfor\u001b[0m \u001b[0mnext_state\u001b[0m \u001b[0;32min\u001b[0m \u001b[0mmdp\u001b[0m\u001b[0;34m.\u001b[0m\u001b[0mstates\u001b[0m\u001b[0;34m:\u001b[0m\u001b[0;34m\u001b[0m\u001b[0;34m\u001b[0m\u001b[0m\n\u001b[1;32m     14\u001b[0m         pondered_expected_values.append(\n\u001b[0;32m---> 15\u001b[0;31m             \u001b[0mmdp\u001b[0m\u001b[0;34m.\u001b[0m\u001b[0mtransition\u001b[0m\u001b[0;34m(\u001b[0m\u001b[0mstate\u001b[0m\u001b[0;34m,\u001b[0m \u001b[0maction\u001b[0m\u001b[0;34m,\u001b[0m \u001b[0mnext_state\u001b[0m\u001b[0;34m)\u001b[0m \u001b[0;34m*\u001b[0m \u001b[0mvalue_function\u001b[0m\u001b[0;34m[\u001b[0m\u001b[0mnext_state\u001b[0m\u001b[0;34m]\u001b[0m\u001b[0;34m\u001b[0m\u001b[0;34m\u001b[0m\u001b[0m\n\u001b[0m\u001b[1;32m     16\u001b[0m         )\n\u001b[1;32m     17\u001b[0m \u001b[0;34m\u001b[0m\u001b[0m\n",
      "\u001b[0;31mKeyboardInterrupt\u001b[0m: "
     ]
    }
   ],
   "source": [
    "from probabilistic_planning.algorithms.policy_iteration import enumerative_policy_iteration\n",
    "\n",
    "algorithms = {\n",
    "    \"RTDP\": lambda mdp: enumerative_rtdp(mdp, gamma=gamma, max_trials=200, max_depth=2_000_000),\n",
    "    #\"LRTDP\": lambda mdp: enumerative_lrtdp(mdp, gamma=gamma, epsilon=epsilon, max_depth=2_000_000)\n",
    "}\n",
    "\n",
    "mdp_river_traversal_02 = read_problem_file(problem_file=\"probabilistic_planning/problems/files/enumerative/river_traversal_02.net\")\n",
    "raw_results_02, results_dataframe_02 = test_algorithms_in_mdp(algorithms, mdp_river_traversal_02)\n",
    "results_dataframe_02"
   ]
  },
  {
   "cell_type": "markdown",
   "metadata": {
    "colab_type": "text",
    "id": "eIcOvHkq-auW"
   },
   "source": [
    "## 2.3 - river_traversal_03"
   ]
  },
  {
   "cell_type": "code",
   "execution_count": null,
   "metadata": {
    "colab": {},
    "colab_type": "code",
    "id": "ryBXAZgQ-mhi"
   },
   "outputs": [],
   "source": [
    "algorithms = {\n",
    "    \"RTDP\": lambda mdp: enumerative_rtdp(mdp, gamma=gamma, epsilon=epsilon, max_trials=300, max_depth=2_000_000),\n",
    "    #\"LRTDP\": lambda mdp: enumerative_lrtdp(mdp, gamma=gamma, epsilon=epsilon, max_depth=2_000_000)\n",
    "}\n",
    "\n",
    "#mdp_river_traversal_03 = read_problem_file(problem_file=\"probabilistic_planning/problems/files/enumerative/river_traversal_03.net\")\n",
    "#raw_results_03, results_dataframe_03 = test_algorithms_in_mdp(algorithms, mdp_river_traversal_02)\n",
    "#results_dataframe_03"
   ]
  }
 ],
 "metadata": {
  "colab": {
   "collapsed_sections": [],
   "name": "ProbabilisticPlanningExperiments.ipynb",
   "provenance": []
  },
  "kernelspec": {
   "display_name": "Python 3",
   "language": "python",
   "name": "python3"
  },
  "language_info": {
   "codemirror_mode": {
    "name": "ipython",
    "version": 3
   },
   "file_extension": ".py",
   "mimetype": "text/x-python",
   "name": "python",
   "nbconvert_exporter": "python",
   "pygments_lexer": "ipython3",
   "version": "3.7.6"
  }
 },
 "nbformat": 4,
 "nbformat_minor": 4
}
